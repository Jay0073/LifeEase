{
 "cells": [
  {
   "cell_type": "code",
   "execution_count": null,
   "id": "f29e6c30",
   "metadata": {
    "vscode": {
     "languageId": "plaintext"
    }
   },
   "outputs": [],
   "source": [
    "!pip install datasets\n",
    "!pip install librosa\n",
    "!pip install pydub"
   ]
  },
  {
   "cell_type": "code",
   "execution_count": null,
   "id": "67bb39ba",
   "metadata": {
    "vscode": {
     "languageId": "plaintext"
    }
   },
   "outputs": [],
   "source": [
    "# Load model directly\n",
    "from transformers import AutoProcessor, AutoModelForSpeechSeq2Seq\n",
    "\n",
    "processor = AutoProcessor.from_pretrained(\"openai/whisper-tiny\")\n",
    "model = AutoModelForSpeechSeq2Seq.from_pretrained (\"openai/whisper-tiny\")"
   ]
  },
  {
   "cell_type": "code",
   "execution_count": null,
   "id": "fa67e695",
   "metadata": {
    "vscode": {
     "languageId": "plaintext"
    }
   },
   "outputs": [],
   "source": [
    "from transformers import WhisperProcessor, WhisperForConditionalGeneration\n",
    "import torch\n",
    "import librosa  # For loading audio files\n",
    "from pydub import AudioSegment  # For handling AAC files\n",
    "\n",
    "# Load model and processor\n",
    "processor = WhisperProcessor.from_pretrained(\"openai/whisper-tiny\")\n",
    "model = WhisperForConditionalGeneration.from_pretrained(\"openai/whisper-tiny\")\n",
    "model.config.forced_decoder_ids = None\n",
    "\n",
    "# Load your AAC audio file and convert to WAV\n",
    "audio_file = \"/content/test1.aac\"  # Replace with your AAC file path\n",
    "audio = AudioSegment.from_file(audio_file, format=\"aac\")\n",
    "audio.export(\"temp.wav\", format=\"wav\")  # Export as temporary WAV file\n",
    "\n",
    "# Load the temporary WAV file using librosa\n",
    "audio_input, sample_rate = librosa.load(\"temp.wav\", sr=16000) # Load and resample to 16kHz\n",
    "\n",
    "# Process audio with language specified\n",
    "input_features = processor(\n",
    "    audio_input, \n",
    "    sampling_rate=sample_rate, \n",
    "    return_tensors=\"pt\", \n",
    "    language=\"en\"  # Specify English for translation\n",
    ")\n",
    "\n",
    "# Get the required padding length\n",
    "padding_length = 3000 - input_features.input_features.shape[-1]\n",
    "\n",
    "# Pad the input features manually\n",
    "input_features.input_features = torch.nn.functional.pad(\n",
    "    input_features.input_features,\n",
    "    (0, padding_length),\n",
    "    mode=\"constant\",\n",
    "    value=processor.tokenizer.pad_token_id\n",
    ")\n",
    "\n",
    "# Manually create attention mask\n",
    "attention_mask = torch.ones_like(input_features.input_features)\n",
    "attention_mask[input_features.input_features == processor.tokenizer.pad_token_id] = 0\n",
    "\n",
    "# Generate token ids, providing the attention mask\n",
    "predicted_ids = model.generate(\n",
    "    input_features.input_features, \n",
    "    attention_mask=attention_mask\n",
    ")\n",
    "\n",
    "# Decode token ids to text\n",
    "transcription = processor.batch_decode(predicted_ids, skip_special_tokens=True)\n",
    "print(transcription)"
   ]
  }
 ],
 "metadata": {
  "language_info": {
   "name": "python"
  }
 },
 "nbformat": 4,
 "nbformat_minor": 5
}
