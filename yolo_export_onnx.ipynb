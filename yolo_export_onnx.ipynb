{
 "cells": [
  {
   "cell_type": "code",
   "execution_count": 1,
   "id": "6ec7a520",
   "metadata": {},
   "outputs": [],
   "source": [
    "from ultralytics import YOLO"
   ]
  },
  {
   "cell_type": "code",
   "execution_count": null,
   "id": "b03ae054",
   "metadata": {},
   "outputs": [],
   "source": [
    "# Load the YOLO11 model\n",
    "model = YOLO(r\"C:\\Users\\voutl\\OneDrive\\Documents\\LifeEase\\yolov8n.pt\")\n",
    "\n",
    "# Export the model to ONNX format\n",
    "model.export(format=\"onnx\")"
   ]
  },
  {
   "cell_type": "code",
   "execution_count": null,
   "id": "cb099397",
   "metadata": {},
   "outputs": [
    {
     "name": "stdout",
     "output_type": "stream",
     "text": [
      "WARNING  Unable to automatically guess model task, assuming 'task=detect'. Explicitly define task for your model, i.e. 'task=detect', 'segment', 'classify','pose' or 'obb'.\n"
     ]
    }
   ],
   "source": [
    "# Load the exported ONNX model\n",
    "onnx_model = YOLO(r\"C:\\Users\\voutl\\OneDrive\\Documents\\LifeEase\\yolov8n.onnx\")"
   ]
  },
  {
   "cell_type": "code",
   "execution_count": 3,
   "id": "4dfb46ee",
   "metadata": {},
   "outputs": [
    {
     "name": "stdout",
     "output_type": "stream",
     "text": [
      "Loading C:\\Users\\voutl\\OneDrive\\Documents\\LifeEase\\yolov8n.onnx for ONNX Runtime inference...\n",
      "Using ONNX Runtime CPUExecutionProvider\n",
      "\n",
      "image 1/1 C:\\Users\\voutl\\OneDrive\\Desktop\\download (1).jpg: 640x640 8 persons, 1 car, 2 buss, 1 truck, 59.9ms\n",
      "Speed: 22.5ms preprocess, 59.9ms inference, 55.9ms postprocess per image at shape (1, 3, 640, 640)\n"
     ]
    }
   ],
   "source": [
    "# Run inference\n",
    "results = onnx_model(r\"C:\\Users\\voutl\\OneDrive\\Desktop\\download (1).jpg\")"
   ]
  }
 ],
 "metadata": {
  "kernelspec": {
   "display_name": "onnxEnv",
   "language": "python",
   "name": "python3"
  },
  "language_info": {
   "codemirror_mode": {
    "name": "ipython",
    "version": 3
   },
   "file_extension": ".py",
   "mimetype": "text/x-python",
   "name": "python",
   "nbconvert_exporter": "python",
   "pygments_lexer": "ipython3",
   "version": "3.8.20"
  }
 },
 "nbformat": 4,
 "nbformat_minor": 5
}
